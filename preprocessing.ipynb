{
 "cells": [
  {
   "cell_type": "code",
   "execution_count": 53,
   "id": "92048e40",
   "metadata": {},
   "outputs": [],
   "source": [
    "import numpy as np\n",
    "import matplotlib.pyplot as plt\n",
    "image1 = numpy.asarray([[(0., 0., 1.), (0., 1., 0.)], [(1., 0., 0.), (0., 0., 0.)]])\n",
    "from random import randint\n"
   ]
  },
  {
   "cell_type": "code",
   "execution_count": 6,
   "id": "61b54986",
   "metadata": {},
   "outputs": [],
   "source": [
    "def image_generate_circle(Nx,Ny,a):\n",
    "    A = np.zeros((Nx,Ny))\n",
    "    centre = np.zeros((2))\n",
    "    centre[0] = Nx//2 \n",
    "    centre[1] = Ny//2 \n",
    "    for i in range (Nx):\n",
    "        for j in range (Ny):\n",
    "            if ((i-centre[0])**2+(j-centre[1])**2 <= a**2):\n",
    "                A[i][j]=1\n",
    "    return A\n",
    "    "
   ]
  },
  {
   "cell_type": "code",
   "execution_count": 13,
   "id": "4892b7e7",
   "metadata": {},
   "outputs": [],
   "source": [
    "def image_generate_ellipse(Nx,Ny,a,b):\n",
    "    A = np.zeros((Nx,Ny))\n",
    "    centre = np.zeros((2))\n",
    "    centre[0] = Nx//2 \n",
    "    centre[1] = Ny//2 \n",
    "    for i in range (Nx):\n",
    "        for j in range (Ny):\n",
    "            if ((i-centre[0])**2/a**2+(j-centre[1])**2/b**2 <= 1):\n",
    "                A[i][j]=1\n",
    "    return A"
   ]
  },
  {
   "cell_type": "code",
   "execution_count": 87,
   "id": "82042549",
   "metadata": {},
   "outputs": [
    {
     "data": {
      "text/plain": [
       "<Figure size 432x288 with 0 Axes>"
      ]
     },
     "metadata": {},
     "output_type": "display_data"
    },
    {
     "data": {
      "image/png": "[encoded data removed]",
      "text/plain": [
       "<Figure size 160x160 with 1 Axes>"
      ]
     },
     "metadata": {
      "needs_background": "light"
     },
     "output_type": "display_data"
    },
    {
     "data": {
      "image/png": "[encoded data removed]",
      "text/plain": [
       "<Figure size 160x160 with 1 Axes>"
      ]
     },
     "metadata": {
      "needs_background": "light"
     },
     "output_type": "display_data"
    },
    {
     "data": {
      "image/png": "[encoded data removed]",
      "text/plain": [
       "<Figure size 160x160 with 1 Axes>"
      ]
     },
     "metadata": {
      "needs_background": "light"
     },
     "output_type": "display_data"
    },
    {
     "data": {
      "image/png": "[encoded data removed]",
      "text/plain": [
       "<Figure size 160x160 with 1 Axes>"
      ]
     },
     "metadata": {
      "needs_background": "light"
     },
     "output_type": "display_data"
    },
    {
     "data": {
      "image/png": "[encoded data removed]",
      "text/plain": [
       "<Figure size 160x160 with 1 Axes>"
      ]
     },
     "metadata": {
      "needs_background": "light"
     },
     "output_type": "display_data"
    },
    {
     "data": {
      "image/png": "[encoded data removed]",
      "text/plain": [
       "<Figure size 160x160 with 1 Axes>"
      ]
     },
     "metadata": {
      "needs_background": "light"
     },
     "output_type": "display_data"
    },
    {
     "data": {
      "image/png": "[encoded data removed]",
      "text/plain": [
       "<Figure size 160x160 with 1 Axes>"
      ]
     },
     "metadata": {
      "needs_background": "light"
     },
     "output_type": "display_data"
    },
    {
     "data": {
      "image/png": "[encoded data removed]",
      "text/plain": [
       "<Figure size 160x160 with 1 Axes>"
      ]
     },
     "metadata": {
      "needs_background": "light"
     },
     "output_type": "display_data"
    },
    {
     "data": {
      "image/png": "[encoded data removed]",
      "text/plain": [
       "<Figure size 160x160 with 1 Axes>"
      ]
     },
     "metadata": {
      "needs_background": "light"
     },
     "output_type": "display_data"
    }
   ],
   "source": [
    "f = plt.figure()\n",
    "n=10\n",
    "A = np.zeros((15,15,n))\n",
    "a_start = 2\n",
    "b_start = 2\n",
    "\n",
    "for j in range (a_start,4+1):\n",
    "    for k in range (b_start,4+1):\n",
    "        plt.figure(figsize=(2, 2), dpi=80)\n",
    "        plt.axis('off')\n",
    "        B = image_generate_ellipse(15,15,j,k)\n",
    "        plt.imshow(B)        \n",
    "    "
   ]
  },
  {
   "cell_type": "code",
   "execution_count": null,
   "id": "c08024d8",
   "metadata": {},
   "outputs": [],
   "source": []
  }
 ],
 "metadata": {
  "kernelspec": {
   "display_name": "Python 3 (ipykernel)",
   "language": "python",
   "name": "python3"
  },
  "language_info": {
   "codemirror_mode": {
    "name": "ipython",
    "version": 3
   },
   "file_extension": ".py",
   "mimetype": "text/x-python",
   "name": "python",
   "nbconvert_exporter": "python",
   "pygments_lexer": "ipython3",
   "version": "3.9.6"
  }
 },
 "nbformat": 4,
 "nbformat_minor": 5
}
